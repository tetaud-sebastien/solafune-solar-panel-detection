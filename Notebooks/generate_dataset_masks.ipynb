{
 "cells": [
  {
   "cell_type": "markdown",
   "id": "702f6b5d",
   "metadata": {},
   "source": [
    "# Generate Dataset CSV path\n"
   ]
  },
  {
   "cell_type": "markdown",
   "id": "753c4b75-9149-4faf-b443-7f6970d0e0f7",
   "metadata": {},
   "source": [
    "## KITTI Dataset\n",
    "\n",
    "https://www.kaggle.com/datasets/sakshaymahna/kittiroadsegmentation\n",
    "\n",
    "Dataset location:\n",
    "\n",
    "```\n",
    "/hdd/team_2/KITTI\n",
    "```"
   ]
  },
  {
   "cell_type": "markdown",
   "id": "394ad422-5943-4f83-8246-730c5be8dfc6",
   "metadata": {},
   "source": [
    "names:\n",
    "    0: off-road\n",
    "    1: on-road"
   ]
  },
  {
   "cell_type": "code",
   "execution_count": 1,
   "id": "8da2e3e6",
   "metadata": {},
   "outputs": [],
   "source": [
    "import cv2\n",
    "\n",
    "import os\n",
    "import glob\n",
    "import pandas as pd"
   ]
  },
  {
   "cell_type": "code",
   "execution_count": 2,
   "id": "35a0565a-ff4a-4823-95af-5cad560c2c4e",
   "metadata": {},
   "outputs": [
    {
     "data": {
      "text/html": [
       "<div>\n",
       "<style scoped>\n",
       "    .dataframe tbody tr th:only-of-type {\n",
       "        vertical-align: middle;\n",
       "    }\n",
       "\n",
       "    .dataframe tbody tr th {\n",
       "        vertical-align: top;\n",
       "    }\n",
       "\n",
       "    .dataframe thead th {\n",
       "        text-align: right;\n",
       "    }\n",
       "</style>\n",
       "<table border=\"1\" class=\"dataframe\">\n",
       "  <thead>\n",
       "    <tr style=\"text-align: right;\">\n",
       "      <th></th>\n",
       "      <th>rgb_path</th>\n",
       "      <th>mask_path</th>\n",
       "      <th>target</th>\n",
       "      <th>dataset</th>\n",
       "    </tr>\n",
       "  </thead>\n",
       "  <tbody>\n",
       "    <tr>\n",
       "      <th>0</th>\n",
       "      <td>/hdd/team_2/KITTI/training/image_2/um_000000.png</td>\n",
       "      <td>/hdd/team_2/KITTI/training/gt_image_2/um_road_...</td>\n",
       "      <td>1</td>\n",
       "      <td>KITTY</td>\n",
       "    </tr>\n",
       "    <tr>\n",
       "      <th>1</th>\n",
       "      <td>/hdd/team_2/KITTI/training/image_2/um_000001.png</td>\n",
       "      <td>/hdd/team_2/KITTI/training/gt_image_2/um_road_...</td>\n",
       "      <td>1</td>\n",
       "      <td>KITTY</td>\n",
       "    </tr>\n",
       "    <tr>\n",
       "      <th>2</th>\n",
       "      <td>/hdd/team_2/KITTI/training/image_2/um_000002.png</td>\n",
       "      <td>/hdd/team_2/KITTI/training/gt_image_2/um_road_...</td>\n",
       "      <td>1</td>\n",
       "      <td>KITTY</td>\n",
       "    </tr>\n",
       "    <tr>\n",
       "      <th>3</th>\n",
       "      <td>/hdd/team_2/KITTI/training/image_2/um_000003.png</td>\n",
       "      <td>/hdd/team_2/KITTI/training/gt_image_2/um_road_...</td>\n",
       "      <td>1</td>\n",
       "      <td>KITTY</td>\n",
       "    </tr>\n",
       "    <tr>\n",
       "      <th>4</th>\n",
       "      <td>/hdd/team_2/KITTI/training/image_2/um_000004.png</td>\n",
       "      <td>/hdd/team_2/KITTI/training/gt_image_2/um_road_...</td>\n",
       "      <td>1</td>\n",
       "      <td>KITTY</td>\n",
       "    </tr>\n",
       "  </tbody>\n",
       "</table>\n",
       "</div>"
      ],
      "text/plain": [
       "                                           rgb_path  \\\n",
       "0  /hdd/team_2/KITTI/training/image_2/um_000000.png   \n",
       "1  /hdd/team_2/KITTI/training/image_2/um_000001.png   \n",
       "2  /hdd/team_2/KITTI/training/image_2/um_000002.png   \n",
       "3  /hdd/team_2/KITTI/training/image_2/um_000003.png   \n",
       "4  /hdd/team_2/KITTI/training/image_2/um_000004.png   \n",
       "\n",
       "                                           mask_path  target dataset  \n",
       "0  /hdd/team_2/KITTI/training/gt_image_2/um_road_...       1   KITTY  \n",
       "1  /hdd/team_2/KITTI/training/gt_image_2/um_road_...       1   KITTY  \n",
       "2  /hdd/team_2/KITTI/training/gt_image_2/um_road_...       1   KITTY  \n",
       "3  /hdd/team_2/KITTI/training/gt_image_2/um_road_...       1   KITTY  \n",
       "4  /hdd/team_2/KITTI/training/gt_image_2/um_road_...       1   KITTY  "
      ]
     },
     "execution_count": 2,
     "metadata": {},
     "output_type": "execute_result"
    }
   ],
   "source": [
    "kitti_path = '/hdd/team_2/KITTI/training/'\n",
    "images_train = os.path.join(kitti_path, 'image_2')\n",
    "masks_train = os.path.join(kitti_path, 'gt_image_2')\n",
    "\n",
    "path_kitty_images = sorted(glob.glob(os.path.join(images_train, \"**/*.png\"), recursive=True))\n",
    "path_kitty_masks = sorted(glob.glob(os.path.join(masks_train, \"**/*_road_*.png\"), recursive=True))\n",
    "\n",
    "df_train = pd.DataFrame(columns=['rgb_path','mask_path','target'])\n",
    "df_train['rgb_path'] = path_kitty_images\n",
    "df_train['mask_path'] = path_kitty_masks\n",
    "\n",
    "df_train['target'] = 1\n",
    "df_train['dataset'] = \"KITTY\"\n",
    "df_kitti_train = df_train.copy()\n",
    "df_kitti_train.head()"
   ]
  },
  {
   "cell_type": "code",
   "execution_count": 3,
   "id": "0547ecf1-a189-438b-814d-3aa0872d440d",
   "metadata": {},
   "outputs": [
    {
     "name": "stdout",
     "output_type": "stream",
     "text": [
      "Training data size: 231\n",
      "Validation data size: 29\n",
      "Test data size: 29\n"
     ]
    }
   ],
   "source": [
    "from sklearn.model_selection import train_test_split\n",
    "\n",
    "# Split the data into training and temporary sets (80% training, 20% temporary)\n",
    "df_kitti_train, temp_data = train_test_split(df_kitti_train, test_size=0.2, random_state=42)\n",
    "\n",
    "# Further split the temporary data into validation and test sets (50% validation, 50% test)\n",
    "df_kitti_valid, df_kitti_test = train_test_split(temp_data, test_size=0.5, random_state=42)\n",
    "\n",
    "# Print the sizes of the splits\n",
    "print(\"Training data size:\", len(df_kitti_train))\n",
    "print(\"Validation data size:\", len(df_kitti_valid))\n",
    "print(\"Test data size:\", len(df_kitti_test))"
   ]
  },
  {
   "cell_type": "code",
   "execution_count": 4,
   "id": "daedbce0-9e61-4cad-903d-ce2df07fba1c",
   "metadata": {},
   "outputs": [],
   "source": [
    "df_kitti_train.to_csv(\"data_splits/train_path.csv\")\n",
    "df_kitti_valid.to_csv(\"data_splits/valid_path.csv\")\n",
    "df_kitti_test.to_csv(\"data_splits/test_path.csv\")"
   ]
  },
  {
   "cell_type": "code",
   "execution_count": 11,
   "id": "1e7d36a7-011b-48b3-be20-1518ba7fd1d1",
   "metadata": {},
   "outputs": [
    {
     "name": "stdout",
     "output_type": "stream",
     "text": [
      "Dice Loss: 0.3803921341896057\n"
     ]
    }
   ],
   "source": [
    "import torch\n",
    "import torch.nn as nn\n",
    "\n",
    "class DiceLoss(nn.Module):\n",
    "    def __init__(self):\n",
    "        super(DiceLoss, self).__init__()\n",
    "\n",
    "    def forward(self, prediction, target):\n",
    "        smooth = 1.0  # Smoothing factor to avoid division by zero\n",
    "        intersection = torch.sum(prediction * target)\n",
    "        union = torch.sum(prediction) + torch.sum(target)\n",
    "        dice = (2.0 * intersection + smooth) / (union + smooth)\n",
    "        loss = 1.0 - dice  # Ensure the loss remains positive\n",
    "        return loss\n",
    "\n",
    "# Example usage\n",
    "criterion = DiceLoss()\n",
    "prediction = torch.tensor([[0.08, 0.02], [0.4, 0.6]])\n",
    "target = torch.tensor([[1, 0], [1, 1]])\n",
    "loss = criterion(prediction, target)\n",
    "print(\"Dice Loss:\", loss.item())"
   ]
  },
  {
   "cell_type": "code",
   "execution_count": 6,
   "id": "d31ef245-b98a-4554-b9db-27e004327806",
   "metadata": {},
   "outputs": [
    {
     "data": {
      "text/plain": [
       "<matplotlib.image.AxesImage at 0x7fbdd7fc99a0>"
      ]
     },
     "execution_count": 6,
     "metadata": {},
     "output_type": "execute_result"
    },
    {
     "data": {
      "image/png": "[encoded data removed]",
      "text/plain": [
       "<Figure size 640x480 with 1 Axes>"
      ]
     },
     "metadata": {},
     "output_type": "display_data"
    }
   ],
   "source": [
    "import matplotlib.pyplot as plt\n",
    "import cv2\n",
    "import numpy as np\n",
    "\n",
    "\n",
    "def convert_to_binary_mask(true_mask):\n",
    "    road_label = np.array([255, 0, 255])\n",
    "     \n",
    "    binary_mask = np.all(mask == road_label, axis=-1).astype(np.uint8)\n",
    "\n",
    "    return binary_mask\n",
    "\n",
    "\n",
    "mask = cv2.imread(df_kitti_train['mask_path'][0])\n",
    "mask = cv2.resize(mask,[256,256])\n",
    "# mask.shape\n",
    "road_label = np.array([255, 0, 255])\n",
    "     \n",
    "binary_mask = np.all(mask == road_label, axis=-1).astype(np.uint8)\n",
    "plt.imshow(binary_mask)"
   ]
  },
  {
   "cell_type": "code",
   "execution_count": null,
   "id": "41ba313a-a4eb-402d-ab92-c43237a80717",
   "metadata": {},
   "outputs": [],
   "source": [
    "mask.min()"
   ]
  },
  {
   "cell_type": "markdown",
   "id": "8564fc0d",
   "metadata": {},
   "source": [
    "## Mississippi  Dataset\n",
    "\n",
    "https://www.cavs.msstate.edu/resources/autonomous_dataset.php\n",
    "\n",
    "Dataset location:\n",
    "\n",
    "```\n",
    "/hdd/team_2/Off-road_Autonomous_Driving_Segmentation_Dataset/CaSSed_Dataset_Final/real_world_data\n",
    "```"
   ]
  },
  {
   "cell_type": "code",
   "execution_count": null,
   "id": "875524c1-5944-42f8-a1e2-525bcd0106e4",
   "metadata": {},
   "outputs": [],
   "source": [
    "m_path = '/hdd/team_2/Off-road_Autonomous_Driving_Segmentation_Dataset/CaSSed_Dataset_Final/real_world_data/'\n",
    "path_off_road_real = glob.glob(os.path.join(m_path, \"**/raw_images/*\"), recursive=True)\n",
    "\n",
    "m_path = '/hdd/team_2/Off-road_Autonomous_Driving_Segmentation_Dataset/CaSSed_Dataset_Final/MAVS_Simulated_Data/'\n",
    "path_off_road_simulated = glob.glob(os.path.join(m_path, \"**/imgs/*.bmp\"), recursive=True)\n",
    "\n",
    "\n"
   ]
  },
  {
   "cell_type": "code",
   "execution_count": null,
   "id": "018a6801-4091-43ee-900a-625b816de6a6",
   "metadata": {},
   "outputs": [],
   "source": [
    "output_dir = os.path.join(m_path,'images_png')\n",
    "# Create the output directory if it doesn't exist\n",
    "os.makedirs(output_dir, exist_ok=True)\n",
    "\n",
    "for bmp_file in path_off_road_simulated:\n",
    "\n",
    "    \n",
    "    img = cv2.imread(bmp_file)\n",
    "    \n",
    "    if img is not None:\n",
    "        \n",
    "        png_path = os.path.join(output_dir, os.path.splitext(bmp_file)[0] + '.png')\n",
    "        cv2.imwrite(png_path, img)\n",
    "       \n",
    "    \n",
    "print(\"Conversion complete.\")"
   ]
  },
  {
   "cell_type": "code",
   "execution_count": null,
   "id": "a18d510f-f4fa-4dc6-92da-98640f05f7e9",
   "metadata": {},
   "outputs": [],
   "source": [
    "path_off_road_simulated = glob.glob(os.path.join(m_path, \"**/imgs/*.png\"), recursive=True)"
   ]
  },
  {
   "cell_type": "code",
   "execution_count": null,
   "id": "2fdac889-02f0-4839-80dc-83183cfb70c6",
   "metadata": {},
   "outputs": [],
   "source": [
    "path_off_road = path_off_road_simulated + path_off_road_real"
   ]
  },
  {
   "cell_type": "code",
   "execution_count": null,
   "id": "bbd42f51-de31-4318-af91-b8ba18f4e4eb",
   "metadata": {},
   "outputs": [],
   "source": [
    "df_m = pd.DataFrame(columns=['rgb_path','target'])\n",
    "df_m['rgb_path'] = path_off_road\n",
    "df_m['target'] = 0\n",
    "\n",
    "print(len(df_m))"
   ]
  },
  {
   "cell_type": "code",
   "execution_count": null,
   "id": "9e4a0c61-c2eb-4b26-869a-1ce706f57935",
   "metadata": {},
   "outputs": [],
   "source": [
    "from sklearn.model_selection import train_test_split"
   ]
  },
  {
   "cell_type": "code",
   "execution_count": null,
   "id": "ab7503f9-76c5-4b40-a6a0-8926c5c78c82",
   "metadata": {},
   "outputs": [],
   "source": [
    "df_m_train, df_m_valid = train_test_split(df_m, test_size=0.20, random_state=42)"
   ]
  },
  {
   "cell_type": "code",
   "execution_count": null,
   "id": "91e3c3c0-de41-4553-9ced-9c33c5f5e0f4",
   "metadata": {},
   "outputs": [],
   "source": [
    "print(\"len of train:\",len(df_m_train))\n",
    "print(\"len of valid:\",len(df_m_valid))"
   ]
  },
  {
   "cell_type": "markdown",
   "id": "fe97a6af-b708-41ac-bed4-cf4f45301de9",
   "metadata": {},
   "source": [
    "# Yamaha V0 Dataset\n",
    "\n",
    "https://theairlab.org/yamaha-offroad-dataset/\n",
    "\n",
    "Dataset location:\n",
    "\n",
    "```\n",
    "/hdd/team_2/yamaha_v0\n",
    "```"
   ]
  },
  {
   "cell_type": "code",
   "execution_count": null,
   "id": "2f32a1fc-ad5f-4107-982e-f42ea711a60c",
   "metadata": {},
   "outputs": [],
   "source": [
    "y_path = '/hdd/team_2/yamaha_v0/'\n",
    "images_train = os.path.join(y_path,'train')\n",
    "path_off_road_train = glob.glob(os.path.join(images_train, \"**/rgb.jpg\"), recursive=True)\n",
    "print(len(path_off_road_train))"
   ]
  },
  {
   "cell_type": "code",
   "execution_count": null,
   "id": "c3333173-0bb4-4b8e-8fd5-677890f1ba81",
   "metadata": {},
   "outputs": [],
   "source": [
    "images_valid = os.path.join(y_path, 'valid')\n",
    "path_off_road_valid = glob.glob(os.path.join(images_valid, \"**/rgb.jpg\"), recursive=True)"
   ]
  },
  {
   "cell_type": "code",
   "execution_count": null,
   "id": "3f8212b5-4783-46ab-80c3-031ba851ebb0",
   "metadata": {},
   "outputs": [],
   "source": [
    "df_train = pd.DataFrame(columns=['rgb_path','target'])\n",
    "df_train['rgb_path'] = path_off_road_train\n",
    "df_train['target'] = 0\n",
    "df_yamaha_train = df_train.copy()\n",
    "df_yamaha_train.head()"
   ]
  },
  {
   "cell_type": "code",
   "execution_count": null,
   "id": "c26fb6ed-2b65-471f-aba9-c5e79d6127c3",
   "metadata": {},
   "outputs": [],
   "source": [
    "df_valid = pd.DataFrame(columns=['rgb_path','target'])\n",
    "df_valid['rgb_path'] = path_off_road_valid\n",
    "df_valid['target'] = 0\n",
    "df_yamaha_valid = df_valid.copy()\n",
    "df_yamaha_valid.head()"
   ]
  },
  {
   "cell_type": "markdown",
   "id": "73af8e2a-31f2-41c9-90cd-81ec2e3771d0",
   "metadata": {},
   "source": [
    "# BDD Dataset\n",
    "\n",
    "https://bdd-data.berkeley.edu/\n",
    "\n",
    "Dataset location:\n",
    "\n",
    "```\n",
    "/hdd/team_2/KIA_DV/Datasets/on_off_road/on_road/BDD/bdd100k_images_100k\n",
    "```"
   ]
  },
  {
   "cell_type": "code",
   "execution_count": null,
   "id": "8323a100-d85f-408d-acc5-87e9668b12ba",
   "metadata": {},
   "outputs": [],
   "source": [
    "bdd_path = '/hdd/team_2/KIA_DV/Datasets/on_off_road/on_road/BDD/bdd100k_images_100k/bdd100k/'\n",
    "images_train = os.path.join(bdd_path,'images', 'train')\n",
    "path_on_road_train = glob.glob(os.path.join(images_train, \"**/*\"), recursive=True)\n",
    "print(len(path_on_road_train))"
   ]
  },
  {
   "cell_type": "code",
   "execution_count": null,
   "id": "701a6d39-2243-407b-8f23-29cd104a5389",
   "metadata": {},
   "outputs": [],
   "source": [
    "images_valid = os.path.join(bdd_path,'images', 'val')\n",
    "path_on_road_valid = glob.glob(os.path.join(images_valid, \"**/*\"), recursive=True)\n",
    "print(len(path_on_road_valid))"
   ]
  },
  {
   "cell_type": "code",
   "execution_count": null,
   "id": "23c3c935-e527-4b13-aec5-f6a67d7e4cc2",
   "metadata": {},
   "outputs": [],
   "source": [
    "df_train = pd.DataFrame(columns=['rgb_path','target'])\n",
    "df_train['rgb_path'] = path_on_road_train\n",
    "df_train['target'] = 1\n",
    "df_bdd_train = df_train.copy()\n",
    "df_bdd_train.head()"
   ]
  },
  {
   "cell_type": "code",
   "execution_count": null,
   "id": "90015eb2-23a8-4820-b900-6cd55e998f33",
   "metadata": {},
   "outputs": [],
   "source": [
    "df_train = pd.DataFrame(columns=['rgb_path','target'])\n",
    "df_train['rgb_path'] = path_on_road_valid\n",
    "df_train['target'] = 1\n",
    "df_bdd_valid = df_train.copy()\n",
    "df_bdd_valid.head()"
   ]
  },
  {
   "cell_type": "markdown",
   "id": "d5b6b011-43fd-4a97-8e4b-bed2129bd8b4",
   "metadata": {},
   "source": [
    "____"
   ]
  },
  {
   "cell_type": "markdown",
   "id": "43086b93-fc3a-4ed3-ac62-6e0acd50e012",
   "metadata": {},
   "source": [
    "# Freiburg Dataset\n",
    "\n",
    "https://paperswithcode.com/dataset/freiburg-forest\n",
    "\n",
    "Dataset location:\n",
    "\n",
    "```\n",
    "/hdd/team_2/freiburg_forest\n",
    "```"
   ]
  },
  {
   "cell_type": "code",
   "execution_count": null,
   "id": "aa6a79ba-55fc-4fdb-a1ad-84598f2032c7",
   "metadata": {},
   "outputs": [],
   "source": [
    "f_path = '/hdd/team_2/freiburg_forest/'\n",
    "images_train = os.path.join(f_path,'freiburg_forest_annotated', 'train','rgb')\n",
    "print(images_train)\n",
    "path_off_road_train = glob.glob(os.path.join(images_train, \"**/*.jpg\"), recursive=True)\n",
    "print(len(path_off_road_train))"
   ]
  },
  {
   "cell_type": "code",
   "execution_count": null,
   "id": "e5d69027-162f-411e-8f5b-c174be311f99",
   "metadata": {},
   "outputs": [],
   "source": [
    "images_valid = os.path.join(f_path,'freiburg_forest_annotated', 'test','rgb')\n",
    "path_off_road_valid = glob.glob(os.path.join(images_valid, \"**/*\"), recursive=True)\n",
    "print(len(path_off_road_valid))"
   ]
  },
  {
   "cell_type": "code",
   "execution_count": null,
   "id": "676480e9-6330-4ff0-a99a-750c688f9cca",
   "metadata": {},
   "outputs": [],
   "source": [
    "df_train = pd.DataFrame(columns=['rgb_path','target'])\n",
    "df_train['rgb_path'] = path_off_road_train\n",
    "df_train['target'] = 0\n",
    "df_f_train = df_train.copy()\n",
    "df_f_train.head()"
   ]
  },
  {
   "cell_type": "code",
   "execution_count": null,
   "id": "5a5688be-83bc-426f-a1dc-4a42a12e0133",
   "metadata": {},
   "outputs": [],
   "source": [
    "df_valid = pd.DataFrame(columns=['rgb_path','target'])\n",
    "df_valid['rgb_path'] = path_off_road_valid\n",
    "df_valid['target'] = 0\n",
    "df_f_valid = df_valid.copy()\n",
    "df_f_valid.head()"
   ]
  },
  {
   "cell_type": "markdown",
   "id": "94eacc80-a374-40d1-8cce-9f52b917dc71",
   "metadata": {},
   "source": [
    "# Summary "
   ]
  },
  {
   "cell_type": "code",
   "execution_count": null,
   "id": "01752165-f832-46c5-a7ea-10fdd8cb3ee1",
   "metadata": {},
   "outputs": [],
   "source": [
    "print(df_kitti_train['rgb_path'][0])\n",
    "print(df_kitti_valid['rgb_path'][0])\n",
    "\n",
    "print(df_m['rgb_path'][0])\n",
    "print(df_m_valid['rgb_path'][0])\n",
    "\n",
    "print(df_yamaha_train['rgb_path'][0])\n",
    "print(df_yamaha_valid['rgb_path'][0])\n",
    "\n",
    "print(df_bdd_train['rgb_path'][0])\n",
    "print(df_bdd_valid['rgb_path'][0])\n",
    "\n",
    "print(df_f_train['rgb_path'][0])\n",
    "print(df_f_valid['rgb_path'][0])"
   ]
  },
  {
   "cell_type": "code",
   "execution_count": null,
   "id": "d031dfbb-0003-4dd4-b9a3-d35efc2fded8",
   "metadata": {},
   "outputs": [],
   "source": [
    "print(\"len KITTI TRAIN: {}\".format(len(df_kitti_train)))\n",
    "print(\"len KITTI VAL: {}\".format(len(df_kitti_valid)))\n",
    "print(\"--\")\n",
    "print(\"len Mississipi TRAIN: {}\".format(len(df_m_train)))\n",
    "print(\"len Mississipi VAL: {}\".format(len(df_m_valid)))\n",
    "print(\"--\")\n",
    "print(\"len Yamaha TRAIN: {}\".format(len(df_yamaha_train)))\n",
    "print(\"len Yamaha VAL: {}\".format(len(df_yamaha_valid)))\n",
    "print(\"--\")\n",
    "print(\"len BDD TRAIN: {}\".format(len(df_bdd_train)))\n",
    "print(\"len BDD VAL: {}\".format(len(df_bdd_valid)))\n",
    "print(\"--\")\n",
    "print(\"len freiburg TRAIN: {}\".format(len(df_f_train)))\n",
    "print(\"len freiburg VAL: {}\".format(len(df_f_valid)))\n",
    "print(\"--\")"
   ]
  },
  {
   "cell_type": "code",
   "execution_count": null,
   "id": "b55580c5-ef50-496e-8c1a-493cd3f66833",
   "metadata": {},
   "outputs": [],
   "source": [
    "df_off_road_train = pd.concat([df_m_train,df_yamaha_train, df_f_train])\n",
    "df_off_road_valid = pd.concat([df_m_valid,df_yamaha_valid,df_f_valid])\n",
    "\n",
    "print(\"len OFF ROAD TRAIN: {}\".format(len(df_off_road_train)))\n",
    "print(\"len OFF ROAD VAL: {}\".format(len(df_off_road_valid)))\n",
    "print(\"TOTAL: {}\".format(len(df_off_road_valid)+len(df_off_road_train)))"
   ]
  },
  {
   "cell_type": "code",
   "execution_count": null,
   "id": "38edc635-48e7-4b2a-811f-45c533ba5112",
   "metadata": {},
   "outputs": [],
   "source": [
    "df_on_road_train = pd.concat([df_kitti_train,df_bdd_train])\n",
    "df_on_road_valid = pd.concat([df_kitti_valid,df_bdd_valid])\n",
    "\n",
    "print(\"len ON ROAD TRAIN: {}\".format(len(df_on_road_train)))\n",
    "print(\"len ON ROAD VAL: {}\".format(len(df_on_road_valid)))\n",
    "print(\"TOTAL: {}\".format(len(df_on_road_valid)+len(df_on_road_train)))"
   ]
  },
  {
   "cell_type": "code",
   "execution_count": null,
   "id": "af045f1b-4ebd-4d0b-beac-fdc449d42cc7",
   "metadata": {},
   "outputs": [],
   "source": [
    "import random"
   ]
  },
  {
   "cell_type": "code",
   "execution_count": null,
   "id": "d0b4111c-7608-4951-bf96-76707f72f460",
   "metadata": {},
   "outputs": [],
   "source": [
    "# Set the seed for reproducibility (optional)\n",
    "random.seed(42)\n",
    "\n",
    "# Sample 4000 random rows from the dataframe\n",
    "df_on_road_train = df_on_road_train.sample(n=8000, random_state=random.randint(0, 100000))\n",
    "df_on_road_valid = df_on_road_valid.sample(n=2000, random_state=random.randint(0, 100000))"
   ]
  },
  {
   "cell_type": "code",
   "execution_count": null,
   "id": "d9dbf09c-714f-42b9-ad0d-5e0e31d95b86",
   "metadata": {},
   "outputs": [],
   "source": [
    "print(\"len ON ROAD TRAIN: {}\".format(len(df_on_road_train)))\n",
    "print(\"len ON ROAD VAL: {}\".format(len(df_on_road_valid)))\n",
    "print(\"TOTAL: {}\".format(len(df_on_road_valid)+len(df_on_road_train)))"
   ]
  },
  {
   "cell_type": "code",
   "execution_count": null,
   "id": "4b911a88-0b51-4da7-9670-298255edfead",
   "metadata": {},
   "outputs": [],
   "source": [
    "#####"
   ]
  },
  {
   "cell_type": "code",
   "execution_count": null,
   "id": "66f0aa4e-9ac5-4cfe-939a-5f958a226fa6",
   "metadata": {},
   "outputs": [],
   "source": [
    "df_train = pd.concat([df_off_road_train,df_on_road_train])"
   ]
  },
  {
   "cell_type": "code",
   "execution_count": null,
   "id": "3c38df67-43b6-4134-a7e5-48ab12239a02",
   "metadata": {},
   "outputs": [],
   "source": [
    "df_train"
   ]
  },
  {
   "cell_type": "code",
   "execution_count": null,
   "id": "ceace695-cd4d-41bf-a5aa-79e67a50fa21",
   "metadata": {},
   "outputs": [],
   "source": [
    "df_valid = pd.concat([df_off_road_valid,df_on_road_valid])\n",
    "df_valid"
   ]
  },
  {
   "cell_type": "code",
   "execution_count": null,
   "id": "7197a8e5-2b6f-4f48-bb22-b3aa2c2bf2a8",
   "metadata": {},
   "outputs": [],
   "source": [
    "print(\"NB TRAIN: {}\".format(len(df_train)))\n",
    "print(\"NB VAL: {}\".format(len(df_valid)))\n",
    "print(\"TOTAL: {}\".format(len(df_train)+len(df_valid)))"
   ]
  },
  {
   "cell_type": "code",
   "execution_count": null,
   "id": "95030d5c-acfa-4ca3-80d5-3e6c32ae603c",
   "metadata": {},
   "outputs": [],
   "source": [
    "## Ratio\n",
    "\n",
    "ratio_val  = len(df_valid) * 100 / len(df_train)\n",
    "print(\"ratio val:\", ratio_val)\n",
    "\n",
    "ratio_train  = 100 - ratio_val\n",
    "print(\"ratio train:\", ratio_train)"
   ]
  },
  {
   "cell_type": "code",
   "execution_count": null,
   "id": "b1b49777-ea53-4cf8-8e43-42d99bd14ce7",
   "metadata": {},
   "outputs": [],
   "source": [
    "# Let's have 75% 15% 10%"
   ]
  },
  {
   "cell_type": "code",
   "execution_count": null,
   "id": "8a278b7e-52eb-4799-8bac-ca05cc9deae4",
   "metadata": {},
   "outputs": [],
   "source": [
    "from sklearn.model_selection import train_test_split\n",
    "\n",
    "df_valid, df_test = train_test_split(df_valid, test_size=0.45, random_state=42)"
   ]
  },
  {
   "cell_type": "code",
   "execution_count": null,
   "id": "5c9171b1-1dd9-41f0-b9f4-86f1f51fa9d3",
   "metadata": {},
   "outputs": [],
   "source": [
    "df_train.to_csv(\"data_splits/train_path.csv\")\n",
    "df_valid.to_csv(\"data_splits/valid_path.csv\")\n",
    "df_test.to_csv(\"data_splits/test_path.csv\")"
   ]
  },
  {
   "cell_type": "code",
   "execution_count": 12,
   "id": "60b592b6-e289-4e1e-8826-b7f3d0d09b54",
   "metadata": {},
   "outputs": [],
   "source": [
    "import torch"
   ]
  },
  {
   "cell_type": "code",
   "execution_count": 13,
   "id": "8a915670-4d7f-4432-8e29-fb4d4b459a69",
   "metadata": {},
   "outputs": [],
   "source": [
    "def intersection_over_union(prediction, target):\n",
    "    intersection = torch.logical_and(prediction, target)\n",
    "    union = torch.logical_or(prediction, target)\n",
    "    iou = torch.sum(intersection).float() / torch.sum(union).float()\n",
    "    iou = iou.detach().cpu().numpy()\n",
    "    return iou"
   ]
  },
  {
   "cell_type": "code",
   "execution_count": 17,
   "id": "62047451-8744-4590-939a-937e328c7524",
   "metadata": {},
   "outputs": [
    {
     "name": "stdout",
     "output_type": "stream",
     "text": [
      "IoU for each batch sample: 0.5833334\n"
     ]
    }
   ],
   "source": [
    "def intersection_over_union_batch(predictions, targets):\n",
    "    intersection = torch.logical_and(predictions, targets)\n",
    "    union = torch.logical_or(predictions, targets)\n",
    "    iou = torch.sum(intersection, dim=(1, 2)).float() / torch.sum(union, dim=(1, 2)).float()\n",
    "    iou = iou.detach().cpu().numpy()\n",
    "    iou = iou.mean()\n",
    "    return iou\n",
    "\n",
    "# Example usage with a batch of predictions and targets\n",
    "predictions = torch.tensor([[[1, 0, 1],\n",
    "                             [0, 1, 0],\n",
    "                             [1, 0, 0]],\n",
    "                            [[0, 1, 0],\n",
    "                             [1, 0, 1],\n",
    "                             [0, 1, 1]]], dtype=torch.bool)\n",
    "\n",
    "targets = torch.tensor([[[1, 0, 0],\n",
    "                         [0, 1, 1],\n",
    "                         [1, 1, 0]],\n",
    "                        [[0, 1, 1],\n",
    "                         [1, 0, 0],\n",
    "                         [0, 1, 1]]], dtype=torch.bool)\n",
    "\n",
    "iou_batch = intersection_over_union_batch(predictions, targets)\n",
    "print(\"IoU for each batch sample:\", iou_batch)"
   ]
  },
  {
   "cell_type": "code",
   "execution_count": 21,
   "id": "55e045e5-20a0-4e18-aa2e-a64819ae60f2",
   "metadata": {},
   "outputs": [
    {
     "name": "stdout",
     "output_type": "stream",
     "text": [
      "IoU for each batch sample: tensor([[0.3313],\n",
      "        [0.3315],\n",
      "        [0.3321],\n",
      "        [0.3354],\n",
      "        [0.3335],\n",
      "        [0.3372],\n",
      "        [0.3313],\n",
      "        [0.3351]])\n"
     ]
    }
   ],
   "source": [
    "import torch\n",
    "\n",
    "def intersection_over_union_batch(predictions, targets):\n",
    "    intersection = torch.logical_and(predictions, targets)\n",
    "    union = torch.logical_or(predictions, targets)\n",
    "    iou = torch.sum(intersection, dim=(2, 3)).float() / torch.sum(union, dim=(2, 3)).float()\n",
    "    return iou\n",
    "\n",
    "# Example usage with a batch of predictions and targets\n",
    "predictions = torch.randint(0, 2, size=(8, 1, 256, 256), dtype=torch.bool)\n",
    "targets = torch.randint(0, 2, size=(8, 1, 256, 256), dtype=torch.bool)\n",
    "\n",
    "iou_batch = intersection_over_union_batch(predictions, targets)\n",
    "print(\"IoU for each batch sample:\", iou_batch)\n"
   ]
  },
  {
   "cell_type": "code",
   "execution_count": 22,
   "id": "ee2f8596-6085-4814-93c1-a577e0d08053",
   "metadata": {},
   "outputs": [],
   "source": [
    "IoU_metrics = []"
   ]
  },
  {
   "cell_type": "code",
   "execution_count": 29,
   "id": "3a8523c1-3f79-405a-a51a-90ebdff475b5",
   "metadata": {},
   "outputs": [],
   "source": [
    "IoU = intersection_over_union_batch(predictions=predictions, targets=targets)\n",
    "IoU = IoU.detach().cpu().numpy()\n",
    "IoU_metrics.append(IoU.flatten())"
   ]
  },
  {
   "cell_type": "code",
   "execution_count": 30,
   "id": "c8cddd0e-e090-4eae-9c14-2dff79fc7408",
   "metadata": {},
   "outputs": [
    {
     "data": {
      "text/plain": [
       "[array([0.33130124, 0.33149004, 0.3321456 , 0.33539286, 0.33353636,\n",
       "        0.33724982, 0.33125013, 0.3351458 ], dtype=float32),\n",
       " array([0.33130124, 0.33149004, 0.3321456 , 0.33539286, 0.33353636,\n",
       "        0.33724982, 0.33125013, 0.3351458 ], dtype=float32),\n",
       " array([0.33130124, 0.33149004, 0.3321456 , 0.33539286, 0.33353636,\n",
       "        0.33724982, 0.33125013, 0.3351458 ], dtype=float32)]"
      ]
     },
     "execution_count": 30,
     "metadata": {},
     "output_type": "execute_result"
    }
   ],
   "source": [
    "IoU_metrics"
   ]
  },
  {
   "cell_type": "code",
   "execution_count": 31,
   "id": "43582235-ce95-4598-81d1-0dafd8817dd4",
   "metadata": {},
   "outputs": [],
   "source": [
    "IoU_metrics = np.concatenate(IoU_metrics)"
   ]
  },
  {
   "cell_type": "code",
   "execution_count": 32,
   "id": "a4da8785-9095-46c0-8673-5c91fb7d065a",
   "metadata": {},
   "outputs": [
    {
     "data": {
      "text/plain": [
       "array([0.33130124, 0.33149004, 0.3321456 , 0.33539286, 0.33353636,\n",
       "       0.33724982, 0.33125013, 0.3351458 , 0.33130124, 0.33149004,\n",
       "       0.3321456 , 0.33539286, 0.33353636, 0.33724982, 0.33125013,\n",
       "       0.3351458 , 0.33130124, 0.33149004, 0.3321456 , 0.33539286,\n",
       "       0.33353636, 0.33724982, 0.33125013, 0.3351458 ], dtype=float32)"
      ]
     },
     "execution_count": 32,
     "metadata": {},
     "output_type": "execute_result"
    }
   ],
   "source": [
    "IoU_metrics"
   ]
  },
  {
   "cell_type": "code",
   "execution_count": 35,
   "id": "b7a85dc2-a183-4441-809f-224cddaa0069",
   "metadata": {},
   "outputs": [
    {
     "name": "stdout",
     "output_type": "stream",
     "text": [
      "IoU for each prediction in the batch: [0.33314322 0.33279864 0.33571647 0.33614301 0.33217189 0.33452674\n",
      " 0.33189198 0.33507469]\n"
     ]
    }
   ],
   "source": [
    "import numpy as np\n",
    "\n",
    "def intersection_over_union_batch(predictions, targets):\n",
    "    batch_size = predictions.shape[0]\n",
    "    iou_batch = np.zeros(batch_size)\n",
    "    \n",
    "    for i in range(batch_size):\n",
    "        prediction = predictions[i, 0]  # Take the first channel (assuming it's a binary mask)\n",
    "        target = targets[i, 0]  # Take the first channel of target\n",
    "        intersection = np.logical_and(prediction, target)\n",
    "        union = np.logical_or(prediction, target)\n",
    "        iou = np.sum(intersection) / np.sum(union)\n",
    "        iou_batch[i] = iou\n",
    "        \n",
    "    return iou_batch\n",
    "\n",
    "# Example usage with batch of predictions\n",
    "predictions = np.random.randint(0, 2, size=(8, 1, 256, 256))  # Random binary masks\n",
    "targets = np.random.randint(0, 2, size=(8, 1, 256, 256))  # Random binary masks\n",
    "\n",
    "iou_batch = intersection_over_union_batch(predictions, targets)\n",
    "print(\"IoU for each prediction in the batch:\", iou_batch)\n"
   ]
  },
  {
   "cell_type": "code",
   "execution_count": 37,
   "id": "261eaf80-3287-40a1-81a0-914d92d583c3",
   "metadata": {},
   "outputs": [
    {
     "data": {
      "text/plain": [
       "(8, 1, 256, 256)"
      ]
     },
     "execution_count": 37,
     "metadata": {},
     "output_type": "execute_result"
    }
   ],
   "source": [
    "predictions.shape"
   ]
  },
  {
   "cell_type": "code",
   "execution_count": 9,
   "id": "28938d8f-9751-45d3-b5b0-bf6df7a04777",
   "metadata": {},
   "outputs": [],
   "source": [
    "import torch\n",
    "import numpy as np\n",
    "import matplotlib.pyplot as plt\n",
    "\n",
    "\n",
    "targets = torch.load(\"targets.pt\")\n",
    "preds = torch.load(\"preds.pt\")"
   ]
  },
  {
   "cell_type": "code",
   "execution_count": 10,
   "id": "794d95d2-08a6-4bab-bf31-100746dcccd2",
   "metadata": {},
   "outputs": [
    {
     "data": {
      "text/plain": [
       "(5, 1, 256, 256)"
      ]
     },
     "execution_count": 10,
     "metadata": {},
     "output_type": "execute_result"
    }
   ],
   "source": [
    "preds.shape"
   ]
  },
  {
   "cell_type": "code",
   "execution_count": 11,
   "id": "85d0f978-80c8-4d64-886a-514ee3b57fbe",
   "metadata": {},
   "outputs": [
    {
     "data": {
      "text/plain": [
       "(5, 256, 256)"
      ]
     },
     "execution_count": 11,
     "metadata": {},
     "output_type": "execute_result"
    }
   ],
   "source": [
    "targets.shape"
   ]
  },
  {
   "cell_type": "code",
   "execution_count": 12,
   "id": "ce49406f-871a-4b97-851a-cebe150910c3",
   "metadata": {},
   "outputs": [],
   "source": [
    "# # Apply thresholding to convert values to 0 or 1\n",
    "# pred = preds[0,:,:,:]\n",
    "binary_predictions = (preds > 0.5).astype(np.uint8)\n",
    "binary_predictions.shape\n",
    "binary_predictions = binary_predictions[1, 0,:,:]"
   ]
  },
  {
   "cell_type": "code",
   "execution_count": 13,
   "id": "e109457e-e269-4d85-a46c-f4c01f42c44f",
   "metadata": {},
   "outputs": [
    {
     "data": {
      "text/plain": [
       "(256, 256)"
      ]
     },
     "execution_count": 13,
     "metadata": {},
     "output_type": "execute_result"
    }
   ],
   "source": [
    "binary_predictions.shape"
   ]
  },
  {
   "cell_type": "code",
   "execution_count": 14,
   "id": "e85eed21-5c46-49b3-80b1-6bb5f0ee73cc",
   "metadata": {},
   "outputs": [
    {
     "data": {
      "text/plain": [
       "<matplotlib.image.AxesImage at 0x7fda5c1d8400>"
      ]
     },
     "execution_count": 14,
     "metadata": {},
     "output_type": "execute_result"
    },
    {
     "data": {
      "image/png": "[encoded data removed]",
      "text/plain": [
       "<Figure size 640x480 with 1 Axes>"
      ]
     },
     "metadata": {},
     "output_type": "display_data"
    }
   ],
   "source": [
    "plt.imshow(binary_predictions)"
   ]
  },
  {
   "cell_type": "code",
   "execution_count": 15,
   "id": "6072dc9f-f45e-40ab-83bb-f6c631976b19",
   "metadata": {},
   "outputs": [
    {
     "data": {
      "text/plain": [
       "(256, 256)"
      ]
     },
     "execution_count": 15,
     "metadata": {},
     "output_type": "execute_result"
    }
   ],
   "source": [
    "target = targets[1,:,:]\n",
    "target.shape"
   ]
  },
  {
   "cell_type": "code",
   "execution_count": 16,
   "id": "58485c3b-c8ce-4ee5-99ab-bf9baf59bcc9",
   "metadata": {},
   "outputs": [
    {
     "data": {
      "text/plain": [
       "<matplotlib.image.AxesImage at 0x7fd9106d12b0>"
      ]
     },
     "execution_count": 16,
     "metadata": {},
     "output_type": "execute_result"
    },
    {
     "data": {
      "image/png": "[encoded data removed]",
      "text/plain": [
       "<Figure size 640x480 with 1 Axes>"
      ]
     },
     "metadata": {},
     "output_type": "display_data"
    }
   ],
   "source": [
    "plt.imshow(target)"
   ]
  },
  {
   "cell_type": "code",
   "execution_count": 19,
   "id": "83fa4820-604c-49e4-af9a-e3f6ac569a92",
   "metadata": {},
   "outputs": [
    {
     "data": {
      "text/plain": [
       "0.36775842044134727"
      ]
     },
     "execution_count": 19,
     "metadata": {},
     "output_type": "execute_result"
    }
   ],
   "source": [
    "intersection = np.logical_and(binary_predictions, target)\n",
    "union = np.logical_or(binary_predictions, target)\n",
    "iou = np.sum(intersection) / np.sum(union)\n",
    "iou"
   ]
  },
  {
   "cell_type": "code",
   "execution_count": 31,
   "id": "56c4c37f-c7d3-4b86-9767-ad61e97eddd2",
   "metadata": {},
   "outputs": [
    {
     "name": "stdout",
     "output_type": "stream",
     "text": [
      "0.7048713004108326\n",
      "0.36775842044134727\n",
      "0.4520408163265306\n",
      "0.46748278500382556\n",
      "0.3728891401116371\n"
     ]
    }
   ],
   "source": [
    "binary_predictions = (preds > 0.5).astype(np.uint8)\n",
    "binary_predictions.shape\n",
    "\n",
    "for i in range(binary_predictions.shape[0]):\n",
    "    target = targets[i,:,:]\n",
    "    binary_mask = binary_predictions[i, 0,:,:]\n",
    "    intersection = np.logical_and(binary_mask, target)\n",
    "    union = np.logical_or(binary_mask, target)\n",
    "    iou = np.sum(intersection) / np.sum(union)\n",
    "    print(iou)\n"
   ]
  },
  {
   "cell_type": "code",
   "execution_count": null,
   "id": "e4617aea-8031-4e91-8f1f-24d0d4b52291",
   "metadata": {},
   "outputs": [],
   "source": []
  }
 ],
 "metadata": {
  "kernelspec": {
   "display_name": "Python 3 (ipykernel)",
   "language": "python",
   "name": "python3"
  },
  "language_info": {
   "codemirror_mode": {
    "name": "ipython",
    "version": 3
   },
   "file_extension": ".py",
   "mimetype": "text/x-python",
   "name": "python",
   "nbconvert_exporter": "python",
   "pygments_lexer": "ipython3",
   "version": "3.9.0"
  }
 },
 "nbformat": 4,
 "nbformat_minor": 5
}
