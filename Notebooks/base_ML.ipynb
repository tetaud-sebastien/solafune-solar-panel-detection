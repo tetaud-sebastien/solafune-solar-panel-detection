{
 "cells": [
  {
   "cell_type": "code",
   "execution_count": 70,
   "id": "03f9f871-c1bd-4062-ab58-9d2045b9e66e",
   "metadata": {},
   "outputs": [],
   "source": [
    "import glob\n",
    "import tifffile\n",
    "import numpy as np\n",
    "import lightgbm as lgb\n",
    "import warnings\n",
    "import tqdm\n",
    "\n",
    "warnings.simplefilter('ignore')"
   ]
  },
  {
   "cell_type": "code",
   "execution_count": 71,
   "id": "bef30e6f-48ab-4472-aebe-7cc79858f706",
   "metadata": {},
   "outputs": [],
   "source": [
    "train_path =  '/home/sebastien/Documents/projects/solafune-solar-panel-detection/data/train/s2_image/'\n",
    "mask_path = '/home/sebastien/Documents/projects/solafune-solar-panel-detection/data/train/mask/'\n",
    "\n",
    "masks = glob.glob(f'{mask_path}/*')\n",
    "trains = glob.glob(f'{train_path}/*')\n",
    "masks.sort()\n",
    "trains.sort()"
   ]
  },
  {
   "cell_type": "code",
   "execution_count": 72,
   "id": "4e88e933-7acf-49bc-999a-d8bd227b4153",
   "metadata": {},
   "outputs": [],
   "source": [
    "X = []\n",
    "y = []\n",
    "g = []\n",
    "\n",
    "for i, (t, m) in enumerate(zip(trains, masks)):\n",
    "    img = tifffile.imread(t).astype(np.float64)\n",
    "    mask = tifffile.imread(m).astype(np.float64)\n",
    "    X.append(img.reshape(-1,12))\n",
    "    y.append(mask.reshape(-1))\n",
    "    g.append(np.ones_like(mask.reshape(-1))*i)\n",
    "    \n",
    "X = np.vstack(X)\n",
    "y = np.hstack(y)\n",
    "g = np.hstack(g) "
   ]
  },
  {
   "cell_type": "code",
   "execution_count": 73,
   "id": "74b5d133-59af-4e9e-aee2-2ea46d3d0366",
   "metadata": {},
   "outputs": [
    {
     "data": {
      "text/plain": [
       "(1133572, 12)"
      ]
     },
     "execution_count": 73,
     "metadata": {},
     "output_type": "execute_result"
    }
   ],
   "source": [
    "X.shape"
   ]
  },
  {
   "cell_type": "code",
   "execution_count": 74,
   "id": "aa1e60b3-c050-472c-ba15-05a4e2a2cd08",
   "metadata": {},
   "outputs": [],
   "source": [
    "lgb_params = {    \n",
    "    'boosting_type':'gbdt',\n",
    "    'num_leaves':31,\n",
    "    'max_depth':-1,\n",
    "    'n_estimators':300,\n",
    "    'random_state':136\n",
    "    }"
   ]
  },
  {
   "cell_type": "code",
   "execution_count": 75,
   "id": "7083adcc-3f1a-418c-ab4f-7e54088f6f79",
   "metadata": {},
   "outputs": [
    {
     "name": "stdout",
     "output_type": "stream",
     "text": [
      "[LightGBM] [Info] Number of positive: 81882, number of negative: 768528\n",
      "[LightGBM] [Info] Auto-choosing row-wise multi-threading, the overhead of testing was 0.003147 seconds.\n",
      "You can set `force_row_wise=true` to remove the overhead.\n",
      "And if memory is not enough, you can set `force_col_wise=true`.\n",
      "[LightGBM] [Info] Total Bins 3060\n",
      "[LightGBM] [Info] Number of data points in the train set: 850410, number of used features: 12\n",
      "[LightGBM] [Info] [binary:BoostFromScore]: pavg=0.096285 -> initscore=-2.239198\n",
      "[LightGBM] [Info] Start training from score -2.239198\n",
      "[100]\tvalid_0's binary_logloss: 0.0910173\n",
      "[200]\tvalid_0's binary_logloss: 0.0908333\n",
      "[300]\tvalid_0's binary_logloss: 0.0901886\n",
      "[LightGBM] [Info] Number of positive: 78111, number of negative: 771836\n",
      "[LightGBM] [Info] Auto-choosing row-wise multi-threading, the overhead of testing was 0.003175 seconds.\n",
      "You can set `force_row_wise=true` to remove the overhead.\n",
      "And if memory is not enough, you can set `force_col_wise=true`.\n",
      "[LightGBM] [Info] Total Bins 3060\n",
      "[LightGBM] [Info] Number of data points in the train set: 849947, number of used features: 12\n",
      "[LightGBM] [Info] [binary:BoostFromScore]: pavg=0.091901 -> initscore=-2.290641\n",
      "[LightGBM] [Info] Start training from score -2.290641\n",
      "[100]\tvalid_0's binary_logloss: 0.0994599\n",
      "[200]\tvalid_0's binary_logloss: 0.099244\n",
      "[300]\tvalid_0's binary_logloss: 0.0994173\n",
      "[LightGBM] [Info] Number of positive: 78880, number of negative: 771068\n",
      "[LightGBM] [Info] Auto-choosing row-wise multi-threading, the overhead of testing was 0.003142 seconds.\n",
      "You can set `force_row_wise=true` to remove the overhead.\n",
      "And if memory is not enough, you can set `force_col_wise=true`.\n",
      "[LightGBM] [Info] Total Bins 3060\n",
      "[LightGBM] [Info] Number of data points in the train set: 849948, number of used features: 12\n",
      "[LightGBM] [Info] [binary:BoostFromScore]: pavg=0.092806 -> initscore=-2.279849\n",
      "[LightGBM] [Info] Start training from score -2.279849\n",
      "[100]\tvalid_0's binary_logloss: 0.101666\n",
      "[200]\tvalid_0's binary_logloss: 0.100057\n",
      "[300]\tvalid_0's binary_logloss: 0.101615\n",
      "[LightGBM] [Info] Number of positive: 79382, number of negative: 771029\n",
      "[LightGBM] [Info] Auto-choosing row-wise multi-threading, the overhead of testing was 0.003166 seconds.\n",
      "You can set `force_row_wise=true` to remove the overhead.\n",
      "And if memory is not enough, you can set `force_col_wise=true`.\n",
      "[LightGBM] [Info] Total Bins 3060\n",
      "[LightGBM] [Info] Number of data points in the train set: 850411, number of used features: 12\n",
      "[LightGBM] [Info] [binary:BoostFromScore]: pavg=0.093345 -> initscore=-2.273454\n",
      "[LightGBM] [Info] Start training from score -2.273454\n",
      "[100]\tvalid_0's binary_logloss: 0.0982495\n",
      "[200]\tvalid_0's binary_logloss: 0.101992\n",
      "[300]\tvalid_0's binary_logloss: 0.102527\n"
     ]
    }
   ],
   "source": [
    "from sklearn.model_selection import KFold, StratifiedKFold, GroupKFold\n",
    "\n",
    "#gkfold = StratifiedKFold(n_splits=4, shuffle=True, random_state=136)\n",
    "gkfold = GroupKFold(n_splits=4)\n",
    "\n",
    "models = []\n",
    "\n",
    "for i, (train_idx, valid_idx) in enumerate(gkfold.split(X, y, g)):\n",
    "    train_x = X[train_idx]\n",
    "    train_y = y[train_idx]\n",
    "    \n",
    "    val_x = X[valid_idx]\n",
    "    val_y = y[valid_idx]\n",
    "    \n",
    "    m = lgb.LGBMClassifier(**lgb_params)\n",
    "    m.fit(train_x, train_y, \n",
    "         eval_metric='logloss',\n",
    "         eval_set=[(val_x, val_y)],\n",
    "         # early_stopping_rounds=10,\n",
    "         # verbose=1,\n",
    "         callbacks=[\n",
    "            lgb.log_evaluation(100),\n",
    "        ],\n",
    "    )\n",
    "    models.append(m)"
   ]
  },
  {
   "cell_type": "code",
   "execution_count": 76,
   "id": "2c8f0a7c-9f81-43ee-8ba2-1331b222f949",
   "metadata": {},
   "outputs": [],
   "source": [
    "test_path =  '/home/sebastien/Documents/projects/solafune-solar-panel-detection/data/evaluation/'\n",
    "test_mask_path = '/home/sebastien/Documents/projects/solafune-solar-panel-detection/data/sample/'\n",
    "#test_path =  '/tmp/kaggledata/solafue_solars/train/s2_image/'\n",
    "#test_mask_path = '/tmp/kaggledata/solafue_solars/train/mask/'\n",
    "\n",
    "masks = glob.glob(f'{test_mask_path}/*')\n",
    "tests = glob.glob(f'{test_path}/*')\n",
    "masks.sort()\n",
    "tests.sort()"
   ]
  },
  {
   "cell_type": "code",
   "execution_count": 77,
   "id": "9f5d9036-9b83-4bff-bd42-a44d9355ac3f",
   "metadata": {},
   "outputs": [],
   "source": [
    "import os\n",
    "if not os.path.isdir('output'):\n",
    "    os.mkdir('output')"
   ]
  },
  {
   "cell_type": "code",
   "execution_count": 78,
   "id": "77aff790-4288-4046-aa0d-4008c4b127e7",
   "metadata": {},
   "outputs": [
    {
     "name": "stderr",
     "output_type": "stream",
     "text": [
      "2066it [00:10, 197.70it/s]\n"
     ]
    }
   ],
   "source": [
    "threshold = 0.5\n",
    "\n",
    "for i, (m, t) in tqdm.tqdm(enumerate(zip(masks, tests))):\n",
    "    basename = os.path.basename(m)\n",
    "    output_file = f'output/{basename}'\n",
    "    \n",
    "    img = tifffile.imread(t).astype(np.float64)\n",
    "    mask = tifffile.imread(m).astype(np.float64)\n",
    "    \n",
    "    X = img.reshape(-1, 12) \n",
    "    shape_mask = mask.shape\n",
    "    \n",
    "    pred = 0\n",
    "    for model in models:\n",
    "        pred = model.predict_proba(X) / len(models)\n",
    "\n",
    "    pred_mask = np.argmax(pred, axis=1).astype(np.uint8)\n",
    "    pred_mask = pred_mask.reshape(shape_mask[0], shape_mask[1])\n",
    "    \n",
    "    tifffile.imwrite(output_file, pred_mask)\n",
    " "
   ]
  },
  {
   "cell_type": "code",
   "execution_count": 79,
   "id": "3cc6b15f-76ad-4d81-81e6-c1037d7009ae",
   "metadata": {},
   "outputs": [
    {
     "data": {
      "text/plain": [
       "<matplotlib.image.AxesImage at 0x7f88913aed60>"
      ]
     },
     "execution_count": 79,
     "metadata": {},
     "output_type": "execute_result"
    },
    {
     "data": {
      "image/png": "[encoded data removed]",
      "text/plain": [
       "<Figure size 640x480 with 1 Axes>"
      ]
     },
     "metadata": {},
     "output_type": "display_data"
    }
   ],
   "source": [
    "import matplotlib.pyplot as plt\n",
    "\n",
    "plt.imshow(pred_mask)"
   ]
  },
  {
   "cell_type": "code",
   "execution_count": 17,
   "id": "2f8d7818-2aaf-496c-af08-d1485a4609ee",
   "metadata": {},
   "outputs": [
    {
     "data": {
      "text/plain": [
       "(23, 23)"
      ]
     },
     "execution_count": 17,
     "metadata": {},
     "output_type": "execute_result"
    }
   ],
   "source": [
    "pred_mask.shape"
   ]
  },
  {
   "cell_type": "code",
   "execution_count": 18,
   "id": "e01c3ec7-0ff7-4a1e-929a-5e7f858cd86b",
   "metadata": {},
   "outputs": [
    {
     "data": {
      "text/plain": [
       "numpy.ndarray"
      ]
     },
     "execution_count": 18,
     "metadata": {},
     "output_type": "execute_result"
    }
   ],
   "source": [
    "type(pred_mask)"
   ]
  },
  {
   "cell_type": "code",
   "execution_count": 25,
   "id": "ce59a79a-6e01-42bb-9b82-7a33fb244488",
   "metadata": {},
   "outputs": [
    {
     "data": {
      "text/plain": [
       "<matplotlib.image.AxesImage at 0x7f889206d160>"
      ]
     },
     "execution_count": 25,
     "metadata": {},
     "output_type": "execute_result"
    },
    {
     "data": {
      "image/png": "[encoded data removed]",
      "text/plain": [
       "<Figure size 640x480 with 1 Axes>"
      ]
     },
     "metadata": {},
     "output_type": "display_data"
    }
   ],
   "source": [
    "plt.imshow(img[:,:,1])"
   ]
  },
  {
   "cell_type": "code",
   "execution_count": 21,
   "id": "1d99777d-2837-43b9-a633-a91a6687fc54",
   "metadata": {},
   "outputs": [
    {
     "data": {
      "text/plain": [
       "(23, 23, 12)"
      ]
     },
     "execution_count": 21,
     "metadata": {},
     "output_type": "execute_result"
    }
   ],
   "source": [
    "img.shape"
   ]
  },
  {
   "cell_type": "code",
   "execution_count": 56,
   "id": "48704af4-fa22-49f4-a757-b3746338ae45",
   "metadata": {},
   "outputs": [
    {
     "name": "stdout",
     "output_type": "stream",
     "text": [
      "(24, 23)\n",
      "<class 'numpy.ndarray'>\n"
     ]
    }
   ],
   "source": [
    "path = 'output/evaluation_mask_440.tif'\n",
    "mask = tifffile.imread(path).astype(np.float64)\n",
    "print(mask.shape)\n",
    "print(type(mask))"
   ]
  }
 ],
 "metadata": {
  "kernelspec": {
   "display_name": "Python 3 (ipykernel)",
   "language": "python",
   "name": "python3"
  },
  "language_info": {
   "codemirror_mode": {
    "name": "ipython",
    "version": 3
   },
   "file_extension": ".py",
   "mimetype": "text/x-python",
   "name": "python",
   "nbconvert_exporter": "python",
   "pygments_lexer": "ipython3",
   "version": "3.9.0"
  }
 },
 "nbformat": 4,
 "nbformat_minor": 5
}
