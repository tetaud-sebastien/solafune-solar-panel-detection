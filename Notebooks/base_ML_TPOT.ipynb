{
 "cells": [
  {
   "cell_type": "code",
   "execution_count": 4,
   "id": "03f9f871-c1bd-4062-ab58-9d2045b9e66e",
   "metadata": {},
   "outputs": [],
   "source": [
    "import glob\n",
    "import tifffile\n",
    "import numpy as np\n",
    "import lightgbm as lgb\n",
    "import warnings\n",
    "import tqdm\n",
    "\n",
    "warnings.simplefilter('ignore')"
   ]
  },
  {
   "cell_type": "code",
   "execution_count": 5,
   "id": "bef30e6f-48ab-4472-aebe-7cc79858f706",
   "metadata": {},
   "outputs": [],
   "source": [
    "train_path =  '/home/sebastien/Documents/projects/solafune-solar-panel-detection/data/train/s2_image/'\n",
    "mask_path = '/home/sebastien/Documents/projects/solafune-solar-panel-detection/data/train/mask/'\n",
    "\n",
    "masks = glob.glob(f'{mask_path}/*')\n",
    "trains = glob.glob(f'{train_path}/*')\n",
    "masks.sort()\n",
    "trains.sort()"
   ]
  },
  {
   "cell_type": "code",
   "execution_count": 6,
   "id": "9d8aa16d-b3c3-471a-851b-a7b0784ecccc",
   "metadata": {},
   "outputs": [],
   "source": [
    "def normalize(image):\n",
    "\n",
    "    bands = image.shape[-1]\n",
    "    \n",
    "    for b in range(bands):\n",
    "        \n",
    "        band_min, band_max = (image[:,:,b].min(), image[:,:,b].max())\n",
    "\n",
    "        image[:,:,b] = ((image[:,:,b]-band_min)/((band_max - band_min))) \n",
    "\n",
    "    \n",
    "    return image"
   ]
  },
  {
   "cell_type": "code",
   "execution_count": 7,
   "id": "4e88e933-7acf-49bc-999a-d8bd227b4153",
   "metadata": {},
   "outputs": [],
   "source": [
    "X = []\n",
    "y = []\n",
    "g = []\n",
    "\n",
    "for i, (t, m) in enumerate(zip(trains, masks)):\n",
    "    img = tifffile.imread(t).astype(np.float64)\n",
    "    img = normalize(img)\n",
    "    \n",
    "    mask = tifffile.imread(m).astype(np.float64)\n",
    "    X.append(img.reshape(-1,12))\n",
    "    y.append(mask.reshape(-1))\n",
    "    g.append(np.ones_like(mask.reshape(-1))*i)\n",
    "    \n",
    "X = np.vstack(X)\n",
    "y = np.hstack(y)\n",
    "g = np.hstack(g) "
   ]
  },
  {
   "cell_type": "code",
   "execution_count": 8,
   "id": "d8a67136-12ff-4ce1-a183-1b6d038690c5",
   "metadata": {},
   "outputs": [
    {
     "data": {
      "text/plain": [
       "(1133572, 12)"
      ]
     },
     "execution_count": 8,
     "metadata": {},
     "output_type": "execute_result"
    }
   ],
   "source": [
    "X.shape"
   ]
  },
  {
   "cell_type": "code",
   "execution_count": 9,
   "id": "7bdad00e-fd3b-4c6f-8546-79bad9d468ba",
   "metadata": {},
   "outputs": [],
   "source": [
    "lgb_params = {    \n",
    "    'boosting_type':'gbdt',\n",
    "    'num_leaves':31,\n",
    "    'max_depth':-1,\n",
    "    'n_estimators':300,\n",
    "    'random_state':136\n",
    "    }"
   ]
  },
  {
   "cell_type": "code",
   "execution_count": 10,
   "id": "c1c4c083-8344-4029-b8c6-898560a737af",
   "metadata": {},
   "outputs": [
    {
     "name": "stdout",
     "output_type": "stream",
     "text": [
      "[LightGBM] [Info] Number of positive: 81882, number of negative: 768528\n",
      "[LightGBM] [Info] Auto-choosing row-wise multi-threading, the overhead of testing was 0.005682 seconds.\n",
      "You can set `force_row_wise=true` to remove the overhead.\n",
      "And if memory is not enough, you can set `force_col_wise=true`.\n",
      "[LightGBM] [Info] Total Bins 3060\n",
      "[LightGBM] [Info] Number of data points in the train set: 850410, number of used features: 12\n",
      "[LightGBM] [Info] [binary:BoostFromScore]: pavg=0.096285 -> initscore=-2.239198\n",
      "[LightGBM] [Info] Start training from score -2.239198\n",
      "[100]\tvalid_0's binary_logloss: 0.127455\n",
      "[200]\tvalid_0's binary_logloss: 0.130094\n",
      "[300]\tvalid_0's binary_logloss: 0.140921\n",
      "[LightGBM] [Info] Number of positive: 78111, number of negative: 771836\n",
      "[LightGBM] [Info] Auto-choosing row-wise multi-threading, the overhead of testing was 0.003326 seconds.\n",
      "You can set `force_row_wise=true` to remove the overhead.\n",
      "And if memory is not enough, you can set `force_col_wise=true`.\n",
      "[LightGBM] [Info] Total Bins 3060\n",
      "[LightGBM] [Info] Number of data points in the train set: 849947, number of used features: 12\n",
      "[LightGBM] [Info] [binary:BoostFromScore]: pavg=0.091901 -> initscore=-2.290641\n",
      "[LightGBM] [Info] Start training from score -2.290641\n",
      "[100]\tvalid_0's binary_logloss: 0.146313\n",
      "[200]\tvalid_0's binary_logloss: 0.156969\n",
      "[300]\tvalid_0's binary_logloss: 0.162201\n",
      "[LightGBM] [Info] Number of positive: 78880, number of negative: 771068\n",
      "[LightGBM] [Info] Auto-choosing row-wise multi-threading, the overhead of testing was 0.003197 seconds.\n",
      "You can set `force_row_wise=true` to remove the overhead.\n",
      "And if memory is not enough, you can set `force_col_wise=true`.\n",
      "[LightGBM] [Info] Total Bins 3060\n",
      "[LightGBM] [Info] Number of data points in the train set: 849948, number of used features: 12\n",
      "[LightGBM] [Info] [binary:BoostFromScore]: pavg=0.092806 -> initscore=-2.279849\n",
      "[LightGBM] [Info] Start training from score -2.279849\n",
      "[100]\tvalid_0's binary_logloss: 0.132675\n",
      "[200]\tvalid_0's binary_logloss: 0.141089\n",
      "[300]\tvalid_0's binary_logloss: 0.142925\n",
      "[LightGBM] [Info] Number of positive: 79382, number of negative: 771029\n",
      "[LightGBM] [Info] Auto-choosing row-wise multi-threading, the overhead of testing was 0.003463 seconds.\n",
      "You can set `force_row_wise=true` to remove the overhead.\n",
      "And if memory is not enough, you can set `force_col_wise=true`.\n",
      "[LightGBM] [Info] Total Bins 3060\n",
      "[LightGBM] [Info] Number of data points in the train set: 850411, number of used features: 12\n",
      "[LightGBM] [Info] [binary:BoostFromScore]: pavg=0.093345 -> initscore=-2.273454\n",
      "[LightGBM] [Info] Start training from score -2.273454\n",
      "[100]\tvalid_0's binary_logloss: 0.136737\n",
      "[200]\tvalid_0's binary_logloss: 0.138566\n",
      "[300]\tvalid_0's binary_logloss: 0.142556\n"
     ]
    }
   ],
   "source": [
    "from sklearn.model_selection import KFold, StratifiedKFold, GroupKFold\n",
    "\n",
    "#gkfold = StratifiedKFold(n_splits=4, shuffle=True, random_state=136)\n",
    "gkfold = GroupKFold(n_splits=4)\n",
    "\n",
    "models = []\n",
    "\n",
    "for i, (train_idx, valid_idx) in enumerate(gkfold.split(X, y, g)):\n",
    "    train_x = X[train_idx]\n",
    "    train_y = y[train_idx]\n",
    "    \n",
    "    val_x = X[valid_idx]\n",
    "    val_y = y[valid_idx]\n",
    "    \n",
    "    m = lgb.LGBMClassifier(**lgb_params)\n",
    "    m.fit(train_x, train_y, \n",
    "         eval_metric='logloss',\n",
    "         eval_set=[(val_x, val_y)],\n",
    "         # early_stopping_rounds=10,\n",
    "         # verbose=1,\n",
    "         callbacks=[\n",
    "            lgb.log_evaluation(100),\n",
    "        ],\n",
    "    )\n",
    "    models.append(m)\n",
    "    models.append(m)"
   ]
  },
  {
   "cell_type": "code",
   "execution_count": 11,
   "id": "68a36725-d49d-47fb-89fd-65e5866f75e1",
   "metadata": {},
   "outputs": [
    {
     "data": {
      "text/plain": [
       "[LGBMClassifier(n_estimators=300, random_state=136),\n",
       " LGBMClassifier(n_estimators=300, random_state=136),\n",
       " LGBMClassifier(n_estimators=300, random_state=136),\n",
       " LGBMClassifier(n_estimators=300, random_state=136),\n",
       " LGBMClassifier(n_estimators=300, random_state=136),\n",
       " LGBMClassifier(n_estimators=300, random_state=136),\n",
       " LGBMClassifier(n_estimators=300, random_state=136),\n",
       " LGBMClassifier(n_estimators=300, random_state=136)]"
      ]
     },
     "execution_count": 11,
     "metadata": {},
     "output_type": "execute_result"
    }
   ],
   "source": [
    "models"
   ]
  },
  {
   "cell_type": "code",
   "execution_count": 12,
   "id": "2c8f0a7c-9f81-43ee-8ba2-1331b222f949",
   "metadata": {},
   "outputs": [],
   "source": [
    "test_path =  '/home/sebastien/Documents/projects/solafune-solar-panel-detection/data/evaluation/'\n",
    "test_mask_path = '/home/sebastien/Documents/projects/solafune-solar-panel-detection/data/sample/'\n",
    "\n",
    "masks = glob.glob(f'{test_mask_path}/*')\n",
    "tests = glob.glob(f'{test_path}/*')\n",
    "masks.sort()\n",
    "tests.sort()"
   ]
  },
  {
   "cell_type": "code",
   "execution_count": 13,
   "id": "9f5d9036-9b83-4bff-bd42-a44d9355ac3f",
   "metadata": {},
   "outputs": [],
   "source": [
    "import os\n",
    "if not os.path.isdir('output1'):\n",
    "    os.mkdir('output1')"
   ]
  },
  {
   "cell_type": "code",
   "execution_count": 23,
   "id": "7025e89b-7344-41f3-b9de-eeb45f6e7737",
   "metadata": {},
   "outputs": [
    {
     "name": "stderr",
     "output_type": "stream",
     "text": [
      "2066it [00:17, 117.94it/s]\n"
     ]
    }
   ],
   "source": [
    "threshold = 0.6\n",
    "\n",
    "for i, (m, t) in tqdm.tqdm(enumerate(zip(masks, tests))):\n",
    "    basename = os.path.basename(m)\n",
    "    output_file = f'output/{basename}'\n",
    "    \n",
    "    img = tifffile.imread(t).astype(np.float64)\n",
    "    img = normalize(img)\n",
    "\n",
    "    \n",
    "    mask = tifffile.imread(m).astype(np.float64)\n",
    "    \n",
    "    X = img.reshape(-1, 12) \n",
    "    shape_mask = mask.shape\n",
    "    \n",
    "    pred = 0\n",
    "    for model in models:\n",
    "        pred = model.predict_proba(X) / len(models)\n",
    "\n",
    "    pred_mask = np.argmax(pred, axis=1).astype(np.uint8)\n",
    "    pred_mask = pred_mask.reshape(shape_mask[0], shape_mask[1])\n",
    "    \n",
    "    tifffile.imwrite(output_file, pred_mask)"
   ]
  },
  {
   "cell_type": "code",
   "execution_count": 24,
   "id": "fd47d2d0-3ee1-4c99-83b5-d5bef8cd2499",
   "metadata": {},
   "outputs": [
    {
     "data": {
      "text/plain": [
       "(23, 23)"
      ]
     },
     "execution_count": 24,
     "metadata": {},
     "output_type": "execute_result"
    }
   ],
   "source": [
    "pred_mask.shape"
   ]
  },
  {
   "cell_type": "code",
   "execution_count": 25,
   "id": "290db0f8-021c-4467-bf7f-ca60b0a71073",
   "metadata": {},
   "outputs": [
    {
     "data": {
      "text/plain": [
       "<matplotlib.image.AxesImage at 0x7f95a81085e0>"
      ]
     },
     "execution_count": 25,
     "metadata": {},
     "output_type": "execute_result"
    },
    {
     "data": {
      "image/png": "[encoded data removed]",
      "text/plain": [
       "<Figure size 640x480 with 1 Axes>"
      ]
     },
     "metadata": {},
     "output_type": "display_data"
    }
   ],
   "source": [
    "import matplotlib.pyplot as plt\n",
    "\n",
    "plt.imshow(pred_mask)"
   ]
  },
  {
   "cell_type": "code",
   "execution_count": null,
   "id": "8468c2b2-5f37-4a2d-b069-0eb1cc8d69d4",
   "metadata": {},
   "outputs": [],
   "source": []
  }
 ],
 "metadata": {
  "kernelspec": {
   "display_name": "Python 3 (ipykernel)",
   "language": "python",
   "name": "python3"
  },
  "language_info": {
   "codemirror_mode": {
    "name": "ipython",
    "version": 3
   },
   "file_extension": ".py",
   "mimetype": "text/x-python",
   "name": "python",
   "nbconvert_exporter": "python",
   "pygments_lexer": "ipython3",
   "version": "3.9.0"
  }
 },
 "nbformat": 4,
 "nbformat_minor": 5
}
