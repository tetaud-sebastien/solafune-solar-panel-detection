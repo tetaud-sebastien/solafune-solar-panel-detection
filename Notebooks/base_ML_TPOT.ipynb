{
 "cells": [
  {
   "cell_type": "code",
   "execution_count": 1,
   "id": "03f9f871-c1bd-4062-ab58-9d2045b9e66e",
   "metadata": {},
   "outputs": [],
   "source": [
    "import glob\n",
    "import tifffile\n",
    "import numpy as np\n",
    "import lightgbm as lgb\n",
    "import warnings\n",
    "import tqdm\n",
    "from sklearn.model_selection import train_test_split\n",
    "\n",
    "warnings.simplefilter('ignore')"
   ]
  },
  {
   "cell_type": "code",
   "execution_count": 2,
   "id": "bef30e6f-48ab-4472-aebe-7cc79858f706",
   "metadata": {},
   "outputs": [],
   "source": [
    "train_path =  '/home/sebastien/Documents/projects/solafune-solar-panel-detection/data/train/s2_image/'\n",
    "mask_path = '/home/sebastien/Documents/projects/solafune-solar-panel-detection/data/train/mask/'\n",
    "\n",
    "masks = glob.glob(f'{mask_path}/*')\n",
    "trains = glob.glob(f'{train_path}/*')\n",
    "masks.sort()\n",
    "trains.sort()"
   ]
  },
  {
   "cell_type": "code",
   "execution_count": 3,
   "id": "4e88e933-7acf-49bc-999a-d8bd227b4153",
   "metadata": {},
   "outputs": [],
   "source": [
    "X = []\n",
    "y = []\n",
    "g = []\n",
    "\n",
    "for i, (t, m) in enumerate(zip(trains, masks)):\n",
    "    img = tifffile.imread(t).astype(np.float64)\n",
    "    mask = tifffile.imread(m).astype(np.float64)\n",
    "    X.append(img.reshape(-1,12))\n",
    "    y.append(mask.reshape(-1))\n",
    "    g.append(np.ones_like(mask.reshape(-1))*i)\n",
    "    \n",
    "X = np.vstack(X)\n",
    "y = np.hstack(y)\n",
    "g = np.hstack(g) "
   ]
  },
  {
   "cell_type": "code",
   "execution_count": 4,
   "id": "2c8f0a7c-9f81-43ee-8ba2-1331b222f949",
   "metadata": {},
   "outputs": [],
   "source": [
    "test_path =  '/home/sebastien/Documents/projects/solafune-solar-panel-detection/data/evaluation/'\n",
    "test_mask_path = '/home/sebastien/Documents/projects/solafune-solar-panel-detection/data/sample/'\n",
    "#test_path =  '/tmp/kaggledata/solafue_solars/train/s2_image/'\n",
    "#test_mask_path = '/tmp/kaggledata/solafue_solars/train/mask/'\n",
    "\n",
    "masks = glob.glob(f'{test_mask_path}/*')\n",
    "tests = glob.glob(f'{test_path}/*')\n",
    "masks.sort()\n",
    "tests.sort()"
   ]
  },
  {
   "cell_type": "code",
   "execution_count": 5,
   "id": "9f5d9036-9b83-4bff-bd42-a44d9355ac3f",
   "metadata": {},
   "outputs": [],
   "source": [
    "import os\n",
    "if not os.path.isdir('output1'):\n",
    "    os.mkdir('output1')"
   ]
  },
  {
   "cell_type": "code",
   "execution_count": 6,
   "id": "48704af4-fa22-49f4-a757-b3746338ae45",
   "metadata": {},
   "outputs": [],
   "source": [
    "import numpy as np\n",
    "import pandas as pd\n",
    "from sklearn.model_selection import train_test_split\n",
    "from sklearn.svm import LinearSVC\n",
    "\n",
    "X_train, X_test, y_train, y_test = train_test_split(X, y, train_size=0.90, test_size=0.10)\n",
    "\n",
    "# Average CV score on the training set was: 0.7454340084081921\n",
    "exported_pipeline = LinearSVC(C=0.01, dual=False, loss=\"squared_hinge\", penalty=\"l1\", tol=0.01)\n",
    "\n",
    "exported_pipeline.fit(X_test, y_test)\n",
    "\n",
    "results = exported_pipeline.predict(X_test)"
   ]
  },
  {
   "cell_type": "code",
   "execution_count": 7,
   "id": "94908f3d-8f3f-4337-ab71-44a810919e8d",
   "metadata": {},
   "outputs": [],
   "source": [
    "from sklearn.metrics import f1_score\n",
    "f1 = f1_score(y_test, results)"
   ]
  },
  {
   "cell_type": "code",
   "execution_count": 8,
   "id": "e2a5c601-9aac-4e1d-ab55-d4b16fa008fb",
   "metadata": {},
   "outputs": [
    {
     "name": "stdout",
     "output_type": "stream",
     "text": [
      "f1 score: 0.7453263867606497\n"
     ]
    }
   ],
   "source": [
    "print(\"f1 score:\", f1)"
   ]
  },
  {
   "cell_type": "code",
   "execution_count": 9,
   "id": "23a8ebf6-ba09-48f0-839c-cd8dc4b84f14",
   "metadata": {},
   "outputs": [],
   "source": [
    "import os\n",
    "if not os.path.isdir('output1'):\n",
    "    os.mkdir('output1')"
   ]
  },
  {
   "cell_type": "code",
   "execution_count": 10,
   "id": "7025e89b-7344-41f3-b9de-eeb45f6e7737",
   "metadata": {},
   "outputs": [
    {
     "name": "stderr",
     "output_type": "stream",
     "text": [
      "2066it [00:04, 501.77it/s]\n"
     ]
    }
   ],
   "source": [
    "for i, (m, t) in tqdm.tqdm(enumerate(zip(masks, tests))):\n",
    "    basename = os.path.basename(m)\n",
    "    output_file = f'output1/{basename}'\n",
    "    \n",
    "    img = tifffile.imread(t).astype(np.float64)\n",
    "    mask = tifffile.imread(m).astype(np.float64)\n",
    "    \n",
    "    X = img.reshape(-1, 12) \n",
    "    shape_mask = mask.shape\n",
    "\n",
    "    pred = exported_pipeline.predict(X)\n",
    "    pred = pred.astype(np.uint8)\n",
    "\n",
    "    # pred_mask = np.argmax(pred, axis=1).astype(np.uint8)\n",
    "    pred_mask = pred.reshape(shape_mask[0], shape_mask[1])\n",
    "\n",
    "    tifffile.imwrite(output_file, pred_mask)"
   ]
  },
  {
   "cell_type": "code",
   "execution_count": 11,
   "id": "fd47d2d0-3ee1-4c99-83b5-d5bef8cd2499",
   "metadata": {},
   "outputs": [
    {
     "data": {
      "text/plain": [
       "(23, 23)"
      ]
     },
     "execution_count": 11,
     "metadata": {},
     "output_type": "execute_result"
    }
   ],
   "source": [
    "pred_mask.shape"
   ]
  },
  {
   "cell_type": "code",
   "execution_count": 12,
   "id": "290db0f8-021c-4467-bf7f-ca60b0a71073",
   "metadata": {},
   "outputs": [
    {
     "data": {
      "text/plain": [
       "<matplotlib.image.AxesImage at 0x7feee6edf730>"
      ]
     },
     "execution_count": 12,
     "metadata": {},
     "output_type": "execute_result"
    },
    {
     "data": {
      "image/png": "[encoded data removed]",
      "text/plain": [
       "<Figure size 640x480 with 1 Axes>"
      ]
     },
     "metadata": {},
     "output_type": "display_data"
    }
   ],
   "source": [
    "import matplotlib.pyplot as plt\n",
    "\n",
    "plt.imshow(pred_mask)"
   ]
  },
  {
   "cell_type": "code",
   "execution_count": 13,
   "id": "ae6041db-5d62-47aa-8ee1-85002624b4c8",
   "metadata": {},
   "outputs": [
    {
     "data": {
      "text/plain": [
       "(23, 23)"
      ]
     },
     "execution_count": 13,
     "metadata": {},
     "output_type": "execute_result"
    }
   ],
   "source": [
    "pred_mask.shape"
   ]
  }
 ],
 "metadata": {
  "kernelspec": {
   "display_name": "Python 3 (ipykernel)",
   "language": "python",
   "name": "python3"
  },
  "language_info": {
   "codemirror_mode": {
    "name": "ipython",
    "version": 3
   },
   "file_extension": ".py",
   "mimetype": "text/x-python",
   "name": "python",
   "nbconvert_exporter": "python",
   "pygments_lexer": "ipython3",
   "version": "3.9.0"
  }
 },
 "nbformat": 4,
 "nbformat_minor": 5
}
