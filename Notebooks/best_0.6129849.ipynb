{
 "cells": [
  {
   "cell_type": "code",
   "execution_count": 1,
   "id": "03f9f871-c1bd-4062-ab58-9d2045b9e66e",
   "metadata": {},
   "outputs": [],
   "source": [
    "import glob\n",
    "import tifffile\n",
    "import numpy as np\n",
    "import lightgbm as lgb\n",
    "import warnings\n",
    "import tqdm\n",
    "import pandas as pd\n",
    "warnings.simplefilter('ignore')\n",
    "from sklearn.model_selection import train_test_split\n",
    "from sklearn.metrics import f1_score\n",
    "pd.options.display.max_columns = 99"
   ]
  },
  {
   "cell_type": "code",
   "execution_count": 2,
   "id": "bef30e6f-48ab-4472-aebe-7cc79858f706",
   "metadata": {},
   "outputs": [],
   "source": [
    "train_path =  '../train/s2_image/'\n",
    "mask_path = '../train/mask/'\n",
    "\n",
    "masks = glob.glob(f'{mask_path}/*')\n",
    "trains = glob.glob(f'{train_path}/*')\n",
    "masks.sort()\n",
    "trains.sort()"
   ]
  },
  {
   "cell_type": "code",
   "execution_count": 3,
   "id": "7f43af4b",
   "metadata": {},
   "outputs": [],
   "source": [
    "total_df = pd.DataFrame({'img_path': trains, 'mask_path':masks})"
   ]
  },
  {
   "cell_type": "code",
   "execution_count": 4,
   "id": "bf8fa3fc",
   "metadata": {},
   "outputs": [],
   "source": [
    "X_train, X_valid = train_test_split(total_df, test_size=0.2, random_state=42)"
   ]
  },
  {
   "cell_type": "code",
   "execution_count": 5,
   "id": "b98f23f6",
   "metadata": {},
   "outputs": [],
   "source": [
    "X = []\n",
    "y = []\n",
    "g = []\n",
    "\n",
    "for i, (t, m) in enumerate(zip(X_train['img_path'], X_train['mask_path'])):\n",
    "    img = tifffile.imread(t).astype(np.float64)\n",
    "    mask = tifffile.imread(m).astype(np.float64)\n",
    "    X.append(img.reshape(-1,12))\n",
    "    y.append(mask.reshape(-1))\n",
    "    g.append(np.ones_like(mask.reshape(-1))*i)\n",
    "\n",
    "x_train = np.vstack(X)\n",
    "y_train = np.hstack(y)\n",
    "g_train = np.hstack(g) "
   ]
  },
  {
   "cell_type": "code",
   "execution_count": 6,
   "id": "4e88e933-7acf-49bc-999a-d8bd227b4153",
   "metadata": {},
   "outputs": [],
   "source": [
    "X = []\n",
    "y = []\n",
    "g = []\n",
    "\n",
    "for i, (t, m) in enumerate(zip(X_valid['img_path'], X_valid['mask_path'])):\n",
    "    img = tifffile.imread(t).astype(np.float64)\n",
    "    mask = tifffile.imread(m).astype(np.float64)\n",
    "    X.append(img.reshape(-1,12))\n",
    "    y.append(mask.reshape(-1))\n",
    "    g.append(np.ones_like(mask.reshape(-1))*i)\n",
    "\n",
    "x_valid = np.vstack(X)\n",
    "y_valid = np.hstack(y)\n",
    "g_valid = np.hstack(g) "
   ]
  },
  {
   "cell_type": "code",
   "execution_count": 7,
   "id": "0c2d9916",
   "metadata": {},
   "outputs": [
    {
     "name": "stdout",
     "output_type": "stream",
     "text": [
      "(906143, 12) (906143,) (227429, 12) (227429,)\n"
     ]
    }
   ],
   "source": [
    "print(x_train.shape, y_train.shape, x_valid.shape, y_valid.shape)"
   ]
  },
  {
   "cell_type": "code",
   "execution_count": 8,
   "id": "32f95be0",
   "metadata": {},
   "outputs": [],
   "source": [
    "x_train = pd.DataFrame(x_train, columns=['B1', 'B2', 'B3', 'B4', 'B5', 'B6', 'B7', 'B8', 'B8A', 'B9', 'B11', 'B12'])\n",
    "x_train['NDRE_1'] = (x_train['B11']-x_train['B12'])/(x_train['B11']+x_train['B12'])\n",
    "g_train = pd.DataFrame(g_train, columns=['Group'])\n",
    "\n",
    "x_train = pd.concat([x_train, g_train], 1)\n",
    "x_valid = pd.DataFrame(x_valid, columns=['B1', 'B2', 'B3', 'B4', 'B5', 'B6', 'B7', 'B8', 'B8A', 'B9', 'B11', 'B12'])\n",
    "x_valid['NDRE_1'] = (x_valid['B11']-x_valid['B12'])/(x_valid['B11']+x_valid['B12'])\n",
    "g_valid = pd.DataFrame(g_valid, columns=['Group'])\n",
    "x_valid = pd.concat([x_valid, g_valid], 1)\n",
    "\n",
    "x_train['Albedo'] = (x_train['B11'])/(x_train['B4'])\n",
    "x_valid['Albedo'] = (x_valid['B11'])/(x_valid['B4'])\n",
    "\n",
    "x_train['LAI'] = (x_train['B8']- x_train['B4'])/(x_train['B8'])\n",
    "x_valid['LAI'] = (x_valid['B8']- x_valid['B4'])/(x_valid['B8'])\n",
    "\n",
    "x_train['UI'] = (x_train['B11']- x_train['B12'])/(x_train['B11'] + x_train['B12'])\n",
    "x_valid['UI'] = (x_valid['B11']- x_valid['B12'])/(x_valid['B11'] + x_valid['B12'])\n",
    "\n",
    "x_train['AI'] = (x_train['B8']- x_train['B11'])/(x_train['B8'] + x_train['B11'])\n",
    "x_valid['AI'] = (x_valid['B8']- x_valid['B11'])/(x_valid['B8'] + x_valid['B11'])\n"
   ]
  },
  {
   "cell_type": "code",
   "execution_count": 9,
   "id": "87bf6775",
   "metadata": {},
   "outputs": [],
   "source": [
    "x_train = x_train.drop(columns=['Group'], axis=1)\n",
    "x_valid = x_valid.drop(columns=['Group'], axis=1)"
   ]
  },
  {
   "cell_type": "code",
   "execution_count": 10,
   "id": "58bc4c7a",
   "metadata": {},
   "outputs": [],
   "source": [
    "from catboost import CatBoostClassifier, Pool, cv"
   ]
  },
  {
   "cell_type": "code",
   "execution_count": 11,
   "id": "f11035c7",
   "metadata": {},
   "outputs": [],
   "source": [
    "model_cat = CatBoostClassifier(iterations=2000,\n",
    "                           task_type=\"GPU\",\n",
    "                           verbose=100,\n",
    "                           learning_rate=0.05,\n",
    "                           depth=10 ,#min 4,\n",
    "                        #    eval_metric = 'F1',\n",
    "                           devices='0:1')"
   ]
  },
  {
   "cell_type": "code",
   "execution_count": 12,
   "id": "ca4f2684",
   "metadata": {},
   "outputs": [
    {
     "name": "stdout",
     "output_type": "stream",
     "text": [
      "0:\tlearn: 0.5872935\ttest: 0.5882896\tbest: 0.5882896 (0)\ttotal: 19.3ms\tremaining: 38.5s\n",
      "100:\tlearn: 0.0886120\ttest: 0.1033333\tbest: 0.1033333 (100)\ttotal: 2.01s\tremaining: 37.8s\n",
      "200:\tlearn: 0.0813816\ttest: 0.0996669\tbest: 0.0996667 (199)\ttotal: 4.01s\tremaining: 35.9s\n",
      "300:\tlearn: 0.0764497\ttest: 0.0978966\tbest: 0.0978966 (300)\ttotal: 6.01s\tremaining: 33.9s\n",
      "400:\tlearn: 0.0724554\ttest: 0.0972042\tbest: 0.0971777 (399)\ttotal: 8.01s\tremaining: 31.9s\n",
      "500:\tlearn: 0.0692148\ttest: 0.0964505\tbest: 0.0964487 (498)\ttotal: 10s\tremaining: 29.9s\n",
      "600:\tlearn: 0.0663775\ttest: 0.0960510\tbest: 0.0960197 (591)\ttotal: 12s\tremaining: 27.9s\n",
      "700:\tlearn: 0.0637309\ttest: 0.0956994\tbest: 0.0956994 (700)\ttotal: 14s\tremaining: 25.9s\n",
      "800:\tlearn: 0.0615234\ttest: 0.0955372\tbest: 0.0955155 (774)\ttotal: 16s\tremaining: 23.9s\n",
      "900:\tlearn: 0.0593968\ttest: 0.0953799\tbest: 0.0953732 (890)\ttotal: 18s\tremaining: 21.9s\n",
      "1000:\tlearn: 0.0575197\ttest: 0.0952891\tbest: 0.0952891 (1000)\ttotal: 20s\tremaining: 19.9s\n",
      "1100:\tlearn: 0.0556750\ttest: 0.0952731\tbest: 0.0952376 (1057)\ttotal: 22s\tremaining: 17.9s\n",
      "1200:\tlearn: 0.0540630\ttest: 0.0952800\tbest: 0.0952224 (1150)\ttotal: 24s\tremaining: 15.9s\n",
      "1300:\tlearn: 0.0525149\ttest: 0.0952274\tbest: 0.0951926 (1248)\ttotal: 25.9s\tremaining: 13.9s\n",
      "1400:\tlearn: 0.0509692\ttest: 0.0952643\tbest: 0.0951926 (1248)\ttotal: 27.9s\tremaining: 11.9s\n",
      "1500:\tlearn: 0.0496268\ttest: 0.0954495\tbest: 0.0951926 (1248)\ttotal: 29.9s\tremaining: 9.94s\n",
      "1600:\tlearn: 0.0483120\ttest: 0.0956131\tbest: 0.0951926 (1248)\ttotal: 31.9s\tremaining: 7.95s\n",
      "1700:\tlearn: 0.0469781\ttest: 0.0956948\tbest: 0.0951926 (1248)\ttotal: 33.9s\tremaining: 5.95s\n",
      "1800:\tlearn: 0.0458313\ttest: 0.0957798\tbest: 0.0951926 (1248)\ttotal: 35.8s\tremaining: 3.96s\n",
      "1900:\tlearn: 0.0446082\ttest: 0.0959682\tbest: 0.0951926 (1248)\ttotal: 37.8s\tremaining: 1.97s\n",
      "1999:\tlearn: 0.0435315\ttest: 0.0961086\tbest: 0.0951926 (1248)\ttotal: 39.8s\tremaining: 0us\n",
      "bestTest = 0.09519260338\n",
      "bestIteration = 1248\n",
      "Shrink model to first 1249 iterations.\n"
     ]
    },
    {
     "data": {
      "text/plain": [
       "<catboost.core.CatBoostClassifier at 0x26ebb5b7b50>"
      ]
     },
     "execution_count": 12,
     "metadata": {},
     "output_type": "execute_result"
    }
   ],
   "source": [
    "model_cat.fit(x_train,\n",
    "            y_train,eval_set=(x_valid, y_valid),\n",
    "            verbose=100)"
   ]
  },
  {
   "cell_type": "code",
   "execution_count": 13,
   "id": "f9068b24",
   "metadata": {},
   "outputs": [
    {
     "data": {
      "text/plain": [
       "0.0952"
      ]
     },
     "execution_count": 13,
     "metadata": {},
     "output_type": "execute_result"
    }
   ],
   "source": [
    "0.0952"
   ]
  },
  {
   "cell_type": "code",
   "execution_count": 14,
   "id": "29338b6a",
   "metadata": {},
   "outputs": [],
   "source": [
    "pred = model_cat.predict_proba(x_valid) \n",
    "pred_mask = (pred[:,1] > 0.4).astype(np.uint8) #(1000)"
   ]
  },
  {
   "cell_type": "code",
   "execution_count": 15,
   "id": "2512a372",
   "metadata": {},
   "outputs": [
    {
     "data": {
      "text/plain": [
       "0.800175862826995"
      ]
     },
     "execution_count": 15,
     "metadata": {},
     "output_type": "execute_result"
    }
   ],
   "source": [
    "f1_score(y_valid, pred_mask) #average='weighted'"
   ]
  },
  {
   "cell_type": "code",
   "execution_count": 16,
   "id": "2c8f0a7c-9f81-43ee-8ba2-1331b222f949",
   "metadata": {},
   "outputs": [],
   "source": [
    "test_path =  '../evaluation/'\n",
    "test_mask_path = '../sample/'\n",
    "\n",
    "masks = glob.glob(f'{test_mask_path}/*')\n",
    "tests = glob.glob(f'{test_path}/*')\n",
    "masks.sort()\n",
    "tests.sort()"
   ]
  },
  {
   "cell_type": "code",
   "execution_count": 17,
   "id": "9f5d9036-9b83-4bff-bd42-a44d9355ac3f",
   "metadata": {},
   "outputs": [],
   "source": [
    "import os\n",
    "if not os.path.isdir('plz'):\n",
    "    os.mkdir('plz')"
   ]
  },
  {
   "cell_type": "code",
   "execution_count": 18,
   "id": "77aff790-4288-4046-aa0d-4008c4b127e7",
   "metadata": {},
   "outputs": [
    {
     "name": "stderr",
     "output_type": "stream",
     "text": [
      "2066it [00:16, 122.92it/s]\n"
     ]
    }
   ],
   "source": [
    "threshold=0.4\n",
    "\n",
    "pred_mask_list=[]\n",
    "proba_list=[]\n",
    "for i, (m, t) in tqdm.tqdm(enumerate(zip(masks, tests))):\n",
    "    basename = os.path.basename(m)\n",
    "    output_file = f'plz/{basename}'\n",
    "    \n",
    "    img = tifffile.imread(t).astype(np.float64)\n",
    "    mask = tifffile.imread(m).astype(np.float64)\n",
    "\n",
    "    X = img.reshape(-1, 12)\n",
    "    #######################\n",
    "    df_x = pd.DataFrame(X, columns=['B1', 'B2', 'B3', 'B4', 'B5', 'B6', 'B7', 'B8', 'B8A', 'B9', 'B11', 'B12'])\n",
    "    df_x['NDRE_1'] = (df_x['B11']-df_x['B12'])/(df_x['B11']+df_x['B12'])\n",
    "\n",
    "    df_x['Albedo'] = (df_x['B11'])/(df_x['B4'])\n",
    "    df_x['LAI'] = (df_x['B8']- df_x['B4'])/(df_x['B8'])\n",
    "\n",
    "    df_x['UI'] = (df_x['B11']- df_x['B12'])/(df_x['B11'] + df_x['B12'])\n",
    "    df_x['AI'] = (df_x['B8']- df_x['B11'])/(df_x['B8'] + df_x['B11'])\n",
    "\n",
    "    X = np.array(df_x)\n",
    "    #######################\n",
    "    shape_mask = mask.shape\n",
    "    \n",
    "    pred = model_cat.predict_proba(X) \n",
    "\n",
    "    pred_mask = (pred[:,1] > threshold).astype(np.uint8).reshape(shape_mask[0], shape_mask[1]) #(23,23)\n",
    "    proba_list.append(pred_mask)\n",
    "\n",
    "    pred_mask_list.append(pred_mask)\n",
    "    tifffile.imwrite(output_file, pred_mask)"
   ]
  },
  {
   "cell_type": "code",
   "execution_count": 19,
   "id": "c8fe5d7f",
   "metadata": {},
   "outputs": [],
   "source": [
    "import zipfile\n",
    "\n",
    "output_folder_path = 'plz'\n",
    "with zipfile.ZipFile('output_1105.zip', 'w') as zipf:\n",
    "    for root, dirs, files in os.walk(output_folder_path):\n",
    "        for file in files:\n",
    "            zipf.write(os.path.join(root, file), file)"
   ]
  },
  {
   "cell_type": "code",
   "execution_count": 20,
   "id": "81a06869",
   "metadata": {},
   "outputs": [
    {
     "data": {
      "text/plain": [
       "<matplotlib.image.AxesImage at 0x26ec2802a90>"
      ]
     },
     "execution_count": 20,
     "metadata": {},
     "output_type": "execute_result"
    },
    {
     "data": {
      "image/png": "[encoded data removed]",
      "text/plain": [
       "<Figure size 640x480 with 1 Axes>"
      ]
     },
     "metadata": {},
     "output_type": "display_data"
    }
   ],
   "source": [
    "import matplotlib.pyplot as plt\n",
    "plt.imshow(pred_mask_list[2])"
   ]
  },
  {
   "cell_type": "code",
   "execution_count": null,
   "id": "84cfafb6",
   "metadata": {},
   "outputs": [],
   "source": []
  },
  {
   "cell_type": "code",
   "execution_count": null,
   "id": "fad377f5",
   "metadata": {},
   "outputs": [],
   "source": []
  },
  {
   "cell_type": "code",
   "execution_count": null,
   "id": "29699149",
   "metadata": {},
   "outputs": [],
   "source": []
  },
  {
   "cell_type": "code",
   "execution_count": null,
   "id": "ef2358d8",
   "metadata": {},
   "outputs": [],
   "source": []
  },
  {
   "cell_type": "code",
   "execution_count": null,
   "id": "f70935f0",
   "metadata": {},
   "outputs": [],
   "source": []
  }
 ],
 "metadata": {
  "kernelspec": {
   "display_name": "Python 3 (ipykernel)",
   "language": "python",
   "name": "python3"
  },
  "language_info": {
   "codemirror_mode": {
    "name": "ipython",
    "version": 3
   },
   "file_extension": ".py",
   "mimetype": "text/x-python",
   "name": "python",
   "nbconvert_exporter": "python",
   "pygments_lexer": "ipython3",
   "version": "3.8.18"
  }
 },
 "nbformat": 4,
 "nbformat_minor": 5
}
